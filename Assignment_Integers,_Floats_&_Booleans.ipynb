{
  "nbformat": 4,
  "nbformat_minor": 0,
  "metadata": {
    "kernelspec": {
      "display_name": "Python 3",
      "language": "python",
      "name": "python3"
    },
    "language_info": {
      "codemirror_mode": {
        "name": "ipython",
        "version": 3
      },
      "file_extension": ".py",
      "mimetype": "text/x-python",
      "name": "python",
      "nbconvert_exporter": "python",
      "pygments_lexer": "ipython3",
      "version": "3.7.4"
    },
    "colab": {
      "name": "Assignment - Integers, Floats & Booleans.ipynb",
      "provenance": [],
      "include_colab_link": true
    }
  },
  "cells": [
    {
      "cell_type": "markdown",
      "metadata": {
        "id": "view-in-github",
        "colab_type": "text"
      },
      "source": [
        "<a href=\"https://colab.research.google.com/github/akshay643/Assignment_2/blob/main/Assignment_Integers%2C_Floats_%26_Booleans.ipynb\" target=\"_parent\"><img src=\"https://colab.research.google.com/assets/colab-badge.svg\" alt=\"Open In Colab\"/></a>"
      ]
    },
    {
      "cell_type": "markdown",
      "metadata": {
        "id": "JRdjdmztDelX"
      },
      "source": [
        "## <u>While doing this assignment only use those concepts which have been taught till now</u>"
      ]
    },
    {
      "cell_type": "markdown",
      "metadata": {
        "id": "8ECk3jeWDelY"
      },
      "source": [
        "## <u>Problem 1</u>\n",
        "\n",
        "In a cricket tournament, based on the outcome of a particular match a team gets following points:\n",
        "* <code>wins</code> gets <code>3</code> points\n",
        "* <code>draws</code> gets <code>1</code> points\n",
        "* <code>losses</code> gets <code>0</code> points\n",
        "\n",
        "Team Aravali plays <code>8</code> matches in this tournament. It wins <code>4</code> matches, loses <code>3</code> matches and draws <code>1</code>. What is the total number of points gained by the Team Aravali?"
      ]
    },
    {
      "cell_type": "code",
      "metadata": {
        "id": "m68YV3OhDelZ"
      },
      "source": [
        "# The outcome variables are defined below\n",
        "wins = 4\n",
        "losses = 3\n",
        "draws = 1"
      ],
      "execution_count": 1,
      "outputs": []
    },
    {
      "cell_type": "code",
      "metadata": {
        "id": "2cnTsWvODelc"
      },
      "source": [
        "# Calculate the total points gained by Team Aravali\n",
        "aravali_points = 4*3 + 3*0 + 1*1"
      ],
      "execution_count": 2,
      "outputs": []
    },
    {
      "cell_type": "code",
      "metadata": {
        "id": "4ccas7cPDelf",
        "colab": {
          "base_uri": "https://localhost:8080/"
        },
        "outputId": "4b92f53f-1bfe-4d18-dfc1-dd75f7c37cda"
      },
      "source": [
        "# Print the variable aravali_points\n",
        "aravali_points"
      ],
      "execution_count": 3,
      "outputs": [
        {
          "output_type": "execute_result",
          "data": {
            "text/plain": [
              "13"
            ]
          },
          "metadata": {
            "tags": []
          },
          "execution_count": 3
        }
      ]
    },
    {
      "cell_type": "markdown",
      "metadata": {
        "id": "-ioInfYKDelh"
      },
      "source": [
        "## <u>Problem 2 </u>\n",
        "\n",
        "* Root of a function $f(x)$ is defined as the value $x$ where $f(x)=0$ \n",
        "* Consider a quadratic function $ f(x) = x^2 + 3x - 4$\n",
        "\n",
        "### Find the value of the function $f(x)$ at points   $x=2,x=-1, x=1$."
      ]
    },
    {
      "cell_type": "code",
      "metadata": {
        "id": "4_HZwes5Delh"
      },
      "source": [
        "# Calculate the value of the function f(x) at x = 2\n",
        "func_evaluated_at_2 = 2**2 + 3*2 - 4"
      ],
      "execution_count": 4,
      "outputs": []
    },
    {
      "cell_type": "code",
      "metadata": {
        "id": "zBkLIXk2Dell",
        "colab": {
          "base_uri": "https://localhost:8080/"
        },
        "outputId": "0c2fbd49-9a83-4b76-ee8d-97756e30d320"
      },
      "source": [
        "# Print the value below\n",
        "func_evaluated_at_2"
      ],
      "execution_count": 5,
      "outputs": [
        {
          "output_type": "execute_result",
          "data": {
            "text/plain": [
              "6"
            ]
          },
          "metadata": {
            "tags": []
          },
          "execution_count": 5
        }
      ]
    },
    {
      "cell_type": "code",
      "metadata": {
        "id": "uD4MAyKIDelo"
      },
      "source": [
        "# Calculate the value of the function f(x) at x = -1\n",
        "func_evaluated_at_minus1 = -1**2 +3*-1 - 4"
      ],
      "execution_count": 6,
      "outputs": []
    },
    {
      "cell_type": "code",
      "metadata": {
        "id": "Jx9WVMQ2Delq",
        "colab": {
          "base_uri": "https://localhost:8080/"
        },
        "outputId": "ab8c2ee2-fae3-46e4-c51b-fdc33762ffe8"
      },
      "source": [
        "# Print the value below\n",
        "func_evaluated_at_minus1"
      ],
      "execution_count": 7,
      "outputs": [
        {
          "output_type": "execute_result",
          "data": {
            "text/plain": [
              "-8"
            ]
          },
          "metadata": {
            "tags": []
          },
          "execution_count": 7
        }
      ]
    },
    {
      "cell_type": "code",
      "metadata": {
        "id": "h8PgF85VDelu"
      },
      "source": [
        "# Calculate the value of the function f(x) at x = 1\n",
        "func_evaluated_at_1 = 1**2 +3*1 - 4"
      ],
      "execution_count": 8,
      "outputs": []
    },
    {
      "cell_type": "code",
      "metadata": {
        "id": "BdrFgug6Delw",
        "colab": {
          "base_uri": "https://localhost:8080/"
        },
        "outputId": "66349aef-266f-475b-b2ea-fe49d8f773b9"
      },
      "source": [
        "# Print the type of the variable below\n",
        "func_evaluated_at_1"
      ],
      "execution_count": 9,
      "outputs": [
        {
          "output_type": "execute_result",
          "data": {
            "text/plain": [
              "0"
            ]
          },
          "metadata": {
            "tags": []
          },
          "execution_count": 9
        }
      ]
    },
    {
      "cell_type": "markdown",
      "metadata": {
        "id": "EvldlcwqDelz"
      },
      "source": [
        "### Return the boolean for each value of $x$ to find out whether that value is a root of $f(x)$"
      ]
    },
    {
      "cell_type": "code",
      "metadata": {
        "id": "-tUSAgzgDel0",
        "colab": {
          "base_uri": "https://localhost:8080/"
        },
        "outputId": "9a5e94e8-2466-4688-b856-5e91e8cfc1b2"
      },
      "source": [
        "# Check whether 2 is a root of f(x)\n",
        "func_evaluated_at_2 == 0"
      ],
      "execution_count": 10,
      "outputs": [
        {
          "output_type": "execute_result",
          "data": {
            "text/plain": [
              "False"
            ]
          },
          "metadata": {
            "tags": []
          },
          "execution_count": 10
        }
      ]
    },
    {
      "cell_type": "code",
      "metadata": {
        "id": "gsNS4Ki4Del2",
        "colab": {
          "base_uri": "https://localhost:8080/"
        },
        "outputId": "1bde1ccc-683a-4f2c-c172-56bbf204940e"
      },
      "source": [
        "# Check whether -1 is a root of f(x)\n",
        "func_evaluated_at_1 == 0"
      ],
      "execution_count": 11,
      "outputs": [
        {
          "output_type": "execute_result",
          "data": {
            "text/plain": [
              "True"
            ]
          },
          "metadata": {
            "tags": []
          },
          "execution_count": 11
        }
      ]
    },
    {
      "cell_type": "code",
      "metadata": {
        "id": "yExDY-ZXDel4",
        "colab": {
          "base_uri": "https://localhost:8080/"
        },
        "outputId": "10c6f30c-6636-4c46-bc46-5be4208001de"
      },
      "source": [
        "# Check whether 1 is a root of f(x)\n",
        "func_evaluated_at_minus1 == 0"
      ],
      "execution_count": 12,
      "outputs": [
        {
          "output_type": "execute_result",
          "data": {
            "text/plain": [
              "False"
            ]
          },
          "metadata": {
            "tags": []
          },
          "execution_count": 12
        }
      ]
    },
    {
      "cell_type": "markdown",
      "metadata": {
        "id": "tNAI2AHRDel6"
      },
      "source": [
        "## <u> Problem 3 </u>\n",
        "\n",
        "A bag contains <code>45</code> apples, <code>65</code> oranges and <code>30</code> bananas. Find the percentage of each type of food items in the bag."
      ]
    },
    {
      "cell_type": "code",
      "metadata": {
        "id": "XJ9Rq4P3Del7",
        "colab": {
          "base_uri": "https://localhost:8080/"
        },
        "outputId": "48bd3dca-c5d4-4914-ec24-2767da382141"
      },
      "source": [
        "# Calculate the percentage of apples and print the variable\n",
        "perc_apples = 45/140 *100\n",
        "perc_apples\n"
      ],
      "execution_count": 16,
      "outputs": [
        {
          "output_type": "execute_result",
          "data": {
            "text/plain": [
              "32.142857142857146"
            ]
          },
          "metadata": {
            "tags": []
          },
          "execution_count": 16
        }
      ]
    },
    {
      "cell_type": "code",
      "metadata": {
        "id": "S6lJZtaXDel9",
        "colab": {
          "base_uri": "https://localhost:8080/"
        },
        "outputId": "7edebd9a-98af-407e-b64a-8880cf2340eb"
      },
      "source": [
        "# Calculate the percentage of oranges and print the variable\n",
        "perc_oranges = 65/140 *100\n",
        "perc_oranges"
      ],
      "execution_count": 19,
      "outputs": [
        {
          "output_type": "execute_result",
          "data": {
            "text/plain": [
              "46.42857142857143"
            ]
          },
          "metadata": {
            "tags": []
          },
          "execution_count": 19
        }
      ]
    },
    {
      "cell_type": "code",
      "metadata": {
        "id": "mHzMnSZrDemB",
        "colab": {
          "base_uri": "https://localhost:8080/"
        },
        "outputId": "368ee598-259d-473b-966c-e30cc6661c0f"
      },
      "source": [
        "# Calculate the percentage of bananas and print the variable\n",
        "perc_bananas = 30/140 * 100\n",
        "perc_bananas"
      ],
      "execution_count": 18,
      "outputs": [
        {
          "output_type": "execute_result",
          "data": {
            "text/plain": [
              "21.428571428571427"
            ]
          },
          "metadata": {
            "tags": []
          },
          "execution_count": 18
        }
      ]
    },
    {
      "cell_type": "markdown",
      "metadata": {
        "id": "F44LczfzDemD"
      },
      "source": [
        "## <u>Problem 4</u>\n",
        "\n",
        "You were playing a fun guessing game during your school break. There were a total of 100 participants excluding you. Out of these 100 people, 30 were Maths Majors, 45 were Economics Majors and 25 were Physics Majors.\n",
        "\n",
        "The game was divided into three rounds.\n",
        "\n",
        "* In the first round, you had to guess the number of Maths Majors and you <b>correctly</b> guessed 20 of them.\n",
        "* In the second round, you had to guess the number of Economics Majors and you <b>correctly</b> guessed 30 of them.\n",
        "* In the final third round, you had to guess the number of Physics Majors and you <b>correctly</b> guessed 20 of them.\n",
        "\n",
        "### Accuracy is defined as the number of correct guesses upon total number of people in the group (expressed in percentage)"
      ]
    },
    {
      "cell_type": "markdown",
      "metadata": {
        "id": "lkGEV_zpDemE"
      },
      "source": [
        "* ### Define your variables"
      ]
    },
    {
      "cell_type": "code",
      "metadata": {
        "id": "OfXY9LcVDemF"
      },
      "source": [
        "# Store the number of Maths majors\n",
        "maths_major = 30\n",
        "# Store the number of Economics majors\n",
        "economics_major = 45\n",
        "# Store the number of Physics majors\n",
        "Physics_major =25\n",
        "# Store the number of your correct guesses of Maths majors\n",
        "correct_maths = 20\n",
        "\n",
        "# Store the number of your correct guesses of Economics majors\n",
        "correct_economics = 30\n",
        "\n",
        "# Store the number of your correct guesses of Physics majors\n",
        "correct_physics = 20"
      ],
      "execution_count": 21,
      "outputs": []
    },
    {
      "cell_type": "markdown",
      "metadata": {
        "id": "Eg_Or6GmDemI"
      },
      "source": [
        "* ### Calculate your accuracy in each of the three rounds"
      ]
    },
    {
      "cell_type": "code",
      "metadata": {
        "id": "QUbDKOR3DemJ",
        "colab": {
          "base_uri": "https://localhost:8080/"
        },
        "outputId": "1d9de27b-7af9-4b54-9893-d2e2f4e79bcd"
      },
      "source": [
        "# Print the Maths accuracy\n",
        "maths_accuracy = correct_maths / maths_major\n",
        "print(maths_accuracy)"
      ],
      "execution_count": 22,
      "outputs": [
        {
          "output_type": "stream",
          "text": [
            "0.6666666666666666\n"
          ],
          "name": "stdout"
        }
      ]
    },
    {
      "cell_type": "code",
      "metadata": {
        "id": "PfX4DowhDemM",
        "colab": {
          "base_uri": "https://localhost:8080/"
        },
        "outputId": "7078287a-3fe6-4fa0-8ef4-21d6c1647e17"
      },
      "source": [
        "# Print the Economics accuracy\n",
        "economics_accuracy = correct_economics / economics_major\n",
        "print(economics_accuracy)"
      ],
      "execution_count": 24,
      "outputs": [
        {
          "output_type": "stream",
          "text": [
            "0.6666666666666666\n"
          ],
          "name": "stdout"
        }
      ]
    },
    {
      "cell_type": "code",
      "metadata": {
        "id": "ZV-hzGKCDemP",
        "colab": {
          "base_uri": "https://localhost:8080/"
        },
        "outputId": "dcedfedc-2c69-4d3e-dd65-fa9207f77b8d"
      },
      "source": [
        "# Print the Physics accuracy\n",
        "physics_accuracy = correct_physics / Physics_major \n",
        "print(physics_accuracy)"
      ],
      "execution_count": 27,
      "outputs": [
        {
          "output_type": "stream",
          "text": [
            "0.8\n"
          ],
          "name": "stdout"
        }
      ]
    },
    {
      "cell_type": "markdown",
      "metadata": {
        "id": "FvKZonnwDemS"
      },
      "source": [
        "* ### Calculate your overall accuracy in the entire game"
      ]
    },
    {
      "cell_type": "code",
      "metadata": {
        "id": "eP3JkusLDemT",
        "colab": {
          "base_uri": "https://localhost:8080/"
        },
        "outputId": "1da6e7af-b8fd-492b-b895-9e393e86f540"
      },
      "source": [
        "# Print the overall accuracy\n",
        "\n",
        "total_accuracy = (maths_accuracy + economics_accuracy + physics_accuracy)\n",
        "print(total_accuracy)"
      ],
      "execution_count": 31,
      "outputs": [
        {
          "output_type": "stream",
          "text": [
            "2.1333333333333333\n"
          ],
          "name": "stdout"
        }
      ]
    },
    {
      "cell_type": "code",
      "metadata": {
        "id": "RhdWlZq0SBLS"
      },
      "source": [
        ""
      ],
      "execution_count": null,
      "outputs": []
    }
  ]
}